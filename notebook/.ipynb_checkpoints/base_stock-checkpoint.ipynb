{
 "cells": [
  {
   "cell_type": "markdown",
   "metadata": {},
   "source": [
    "## 通过分析基本面查找有价值的股票"
   ]
  },
  {
   "cell_type": "markdown",
   "metadata": {},
   "source": [
    "### 1、查看当前市场的所有股票信息"
   ]
  },
  {
   "cell_type": "code",
   "execution_count": 37,
   "metadata": {},
   "outputs": [],
   "source": [
    "#获取股票的基本信息\n",
    "import tushare as ts\n",
    "df = ts.get_stock_basics()\n",
    "#pe 市盈率\n",
    "#totalAssets 总资产(万)\n",
    "#reserved 公积金\n",
    "#esp 每股收益\n",
    "#pb 市净率\n",
    "#rev 收入同比\n",
    "#profit 利润同比\n",
    "#holders 股东人数\n",
    "columns = ['name', 'industry','pe','totalAssets','reserved','esp','pb','rev','profit','holders']\n",
    "# df_pe = df_pe[columns]\n",
    "# df_pe\n",
    "#定义变量\n",
    "Year = 2017\n",
    "Quarter = 4"
   ]
  },
  {
   "cell_type": "markdown",
   "metadata": {},
   "source": [
    "#### 全市股票一共3499只"
   ]
  },
  {
   "cell_type": "code",
   "execution_count": 38,
   "metadata": {},
   "outputs": [
    {
     "data": {
      "text/plain": [
       "3499"
      ]
     },
     "execution_count": 38,
     "metadata": {},
     "output_type": "execute_result"
    }
   ],
   "source": [
    "len(df)"
   ]
  },
  {
   "cell_type": "markdown",
   "metadata": {},
   "source": [
    "##### 其中市盈率为1-15的"
   ]
  },
  {
   "cell_type": "code",
   "execution_count": 39,
   "metadata": {
    "collapsed": true
   },
   "outputs": [],
   "source": [
    "df_pe = df[(df.pe >1) & (df.pe < 15)]"
   ]
  },
  {
   "cell_type": "code",
   "execution_count": 40,
   "metadata": {},
   "outputs": [
    {
     "data": {
      "text/plain": [
       "244"
      ]
     },
     "execution_count": 40,
     "metadata": {},
     "output_type": "execute_result"
    }
   ],
   "source": [
    "len(df_pe)"
   ]
  },
  {
   "cell_type": "markdown",
   "metadata": {},
   "source": [
    "####"
   ]
  },
  {
   "cell_type": "markdown",
   "metadata": {},
   "source": [
    "#### 收入同比小于0的去掉"
   ]
  },
  {
   "cell_type": "code",
   "execution_count": 41,
   "metadata": {},
   "outputs": [
    {
     "data": {
      "text/plain": [
       "201"
      ]
     },
     "execution_count": 41,
     "metadata": {},
     "output_type": "execute_result"
    }
   ],
   "source": [
    "df_pe = df_pe[df_pe.rev > 0]\n",
    "len(df_pe)"
   ]
  },
  {
   "cell_type": "markdown",
   "metadata": {},
   "source": [
    "#### 利润同比小于0的去掉"
   ]
  },
  {
   "cell_type": "code",
   "execution_count": 42,
   "metadata": {},
   "outputs": [
    {
     "data": {
      "text/plain": [
       "184"
      ]
     },
     "execution_count": 42,
     "metadata": {},
     "output_type": "execute_result"
    }
   ],
   "source": [
    "df_pe = df_pe[df_pe.profit > 0]\n",
    "len(df_pe)"
   ]
  },
  {
   "cell_type": "markdown",
   "metadata": {},
   "source": [
    "#### PE小于10"
   ]
  },
  {
   "cell_type": "code",
   "execution_count": 43,
   "metadata": {},
   "outputs": [
    {
     "data": {
      "text/plain": [
       "51"
      ]
     },
     "execution_count": 43,
     "metadata": {},
     "output_type": "execute_result"
    }
   ],
   "source": [
    "df_pe_less_ten = df_pe[df_pe.pe <= 10]\n",
    "len(df_pe_less_ten)"
   ]
  },
  {
   "cell_type": "code",
   "execution_count": 45,
   "metadata": {},
   "outputs": [
    {
     "data": {
      "text/html": [
       "<div>\n",
       "<table border=\"1\" class=\"dataframe\">\n",
       "  <thead>\n",
       "    <tr style=\"text-align: right;\">\n",
       "      <th></th>\n",
       "      <th>name</th>\n",
       "      <th>industry</th>\n",
       "      <th>pe</th>\n",
       "      <th>totalAssets</th>\n",
       "      <th>reserved</th>\n",
       "      <th>esp</th>\n",
       "      <th>pb</th>\n",
       "      <th>rev</th>\n",
       "      <th>profit</th>\n",
       "      <th>holders</th>\n",
       "    </tr>\n",
       "    <tr>\n",
       "      <th>code</th>\n",
       "      <th></th>\n",
       "      <th></th>\n",
       "      <th></th>\n",
       "      <th></th>\n",
       "      <th></th>\n",
       "      <th></th>\n",
       "      <th></th>\n",
       "      <th></th>\n",
       "      <th></th>\n",
       "      <th></th>\n",
       "    </tr>\n",
       "  </thead>\n",
       "  <tbody>\n",
       "    <tr>\n",
       "      <th>601186</th>\n",
       "      <td>中国铁建</td>\n",
       "      <td>建筑施工</td>\n",
       "      <td>9.85</td>\n",
       "      <td>8.296434e+07</td>\n",
       "      <td>4042455.25</td>\n",
       "      <td>0.775</td>\n",
       "      <td>1.05</td>\n",
       "      <td>8.61</td>\n",
       "      <td>15.41</td>\n",
       "      <td>310105.0</td>\n",
       "    </tr>\n",
       "    <tr>\n",
       "      <th>002142</th>\n",
       "      <td>宁波银行</td>\n",
       "      <td>银行</td>\n",
       "      <td>9.72</td>\n",
       "      <td>9.530644e+07</td>\n",
       "      <td>877990.81</td>\n",
       "      <td>1.453</td>\n",
       "      <td>1.94</td>\n",
       "      <td>3.54</td>\n",
       "      <td>16.15</td>\n",
       "      <td>76071.0</td>\n",
       "    </tr>\n",
       "    <tr>\n",
       "      <th>601668</th>\n",
       "      <td>中国建筑</td>\n",
       "      <td>建筑施工</td>\n",
       "      <td>7.72</td>\n",
       "      <td>1.527107e+08</td>\n",
       "      <td>2458741.25</td>\n",
       "      <td>0.830</td>\n",
       "      <td>1.40</td>\n",
       "      <td>15.03</td>\n",
       "      <td>4.10</td>\n",
       "      <td>626424.0</td>\n",
       "    </tr>\n",
       "    <tr>\n",
       "      <th>600919</th>\n",
       "      <td>江苏银行</td>\n",
       "      <td>银行</td>\n",
       "      <td>7.02</td>\n",
       "      <td>1.737565e+08</td>\n",
       "      <td>1607527.75</td>\n",
       "      <td>0.796</td>\n",
       "      <td>0.97</td>\n",
       "      <td>7.53</td>\n",
       "      <td>10.94</td>\n",
       "      <td>227586.0</td>\n",
       "    </tr>\n",
       "    <tr>\n",
       "      <th>601169</th>\n",
       "      <td>北京银行</td>\n",
       "      <td>银行</td>\n",
       "      <td>7.37</td>\n",
       "      <td>2.275226e+08</td>\n",
       "      <td>2623600.00</td>\n",
       "      <td>0.820</td>\n",
       "      <td>0.86</td>\n",
       "      <td>6.94</td>\n",
       "      <td>3.75</td>\n",
       "      <td>172254.0</td>\n",
       "    </tr>\n",
       "    <tr>\n",
       "      <th>600000</th>\n",
       "      <td>浦发银行</td>\n",
       "      <td>银行</td>\n",
       "      <td>6.72</td>\n",
       "      <td>6.063837e+08</td>\n",
       "      <td>8176000.00</td>\n",
       "      <td>1.450</td>\n",
       "      <td>0.97</td>\n",
       "      <td>3.18</td>\n",
       "      <td>2.97</td>\n",
       "      <td>192174.0</td>\n",
       "    </tr>\n",
       "    <tr>\n",
       "      <th>600036</th>\n",
       "      <td>招商银行</td>\n",
       "      <td>银行</td>\n",
       "      <td>9.88</td>\n",
       "      <td>6.169239e+08</td>\n",
       "      <td>6752300.00</td>\n",
       "      <td>2.332</td>\n",
       "      <td>1.77</td>\n",
       "      <td>3.38</td>\n",
       "      <td>12.78</td>\n",
       "      <td>218770.0</td>\n",
       "    </tr>\n",
       "    <tr>\n",
       "      <th>601328</th>\n",
       "      <td>交通银行</td>\n",
       "      <td>银行</td>\n",
       "      <td>6.86</td>\n",
       "      <td>8.935791e+08</td>\n",
       "      <td>11367500.00</td>\n",
       "      <td>0.700</td>\n",
       "      <td>0.83</td>\n",
       "      <td>1.64</td>\n",
       "      <td>3.50</td>\n",
       "      <td>360918.0</td>\n",
       "    </tr>\n",
       "    <tr>\n",
       "      <th>601288</th>\n",
       "      <td>农业银行</td>\n",
       "      <td>银行</td>\n",
       "      <td>6.33</td>\n",
       "      <td>2.092312e+09</td>\n",
       "      <td>9877300.00</td>\n",
       "      <td>0.493</td>\n",
       "      <td>1.02</td>\n",
       "      <td>5.76</td>\n",
       "      <td>3.79</td>\n",
       "      <td>357646.0</td>\n",
       "    </tr>\n",
       "    <tr>\n",
       "      <th>601398</th>\n",
       "      <td>工商银行</td>\n",
       "      <td>银行</td>\n",
       "      <td>7.83</td>\n",
       "      <td>2.576480e+09</td>\n",
       "      <td>15200200.00</td>\n",
       "      <td>0.640</td>\n",
       "      <td>1.19</td>\n",
       "      <td>3.48</td>\n",
       "      <td>2.34</td>\n",
       "      <td>499269.0</td>\n",
       "    </tr>\n",
       "  </tbody>\n",
       "</table>\n",
       "</div>"
      ],
      "text/plain": [
       "        name industry    pe   totalAssets     reserved    esp    pb    rev  \\\n",
       "code                                                                         \n",
       "601186  中国铁建     建筑施工  9.85  8.296434e+07   4042455.25  0.775  1.05   8.61   \n",
       "002142  宁波银行       银行  9.72  9.530644e+07    877990.81  1.453  1.94   3.54   \n",
       "601668  中国建筑     建筑施工  7.72  1.527107e+08   2458741.25  0.830  1.40  15.03   \n",
       "600919  江苏银行       银行  7.02  1.737565e+08   1607527.75  0.796  0.97   7.53   \n",
       "601169  北京银行       银行  7.37  2.275226e+08   2623600.00  0.820  0.86   6.94   \n",
       "600000  浦发银行       银行  6.72  6.063837e+08   8176000.00  1.450  0.97   3.18   \n",
       "600036  招商银行       银行  9.88  6.169239e+08   6752300.00  2.332  1.77   3.38   \n",
       "601328  交通银行       银行  6.86  8.935791e+08  11367500.00  0.700  0.83   1.64   \n",
       "601288  农业银行       银行  6.33  2.092312e+09   9877300.00  0.493  1.02   5.76   \n",
       "601398  工商银行       银行  7.83  2.576480e+09  15200200.00  0.640  1.19   3.48   \n",
       "\n",
       "        profit   holders  \n",
       "code                      \n",
       "601186   15.41  310105.0  \n",
       "002142   16.15   76071.0  \n",
       "601668    4.10  626424.0  \n",
       "600919   10.94  227586.0  \n",
       "601169    3.75  172254.0  \n",
       "600000    2.97  192174.0  \n",
       "600036   12.78  218770.0  \n",
       "601328    3.50  360918.0  \n",
       "601288    3.79  357646.0  \n",
       "601398    2.34  499269.0  "
      ]
     },
     "execution_count": 45,
     "metadata": {},
     "output_type": "execute_result"
    }
   ],
   "source": [
    "df_pe_less_ten = df_pe_less_ten.sort_values('totalAssets',ascending=True)\n",
    "df_pe_less_ten = df_pe_less_ten[:10]\n",
    "df_pe_less_ten[columns]"
   ]
  },
  {
   "cell_type": "markdown",
   "metadata": {},
   "source": [
    "#### PE大于10小于15"
   ]
  },
  {
   "cell_type": "code",
   "execution_count": null,
   "metadata": {},
   "outputs": [],
   "source": [
    "df_pe_less_fifteen = df_pe[(df_pe.pe >10) & (df_pe.pe <= 15)]\n",
    "len(df_pe_less_fifteen)"
   ]
  },
  {
   "cell_type": "code",
   "execution_count": null,
   "metadata": {},
   "outputs": [],
   "source": [
    "df_pe_less_fifteen[columns]"
   ]
  },
  {
   "cell_type": "code",
   "execution_count": null,
   "metadata": {
    "collapsed": true
   },
   "outputs": [],
   "source": []
  },
  {
   "cell_type": "markdown",
   "metadata": {},
   "source": [
    "## 看业绩报告"
   ]
  },
  {
   "cell_type": "markdown",
   "metadata": {},
   "source": [
    "#### 净利润同比小于0的去除"
   ]
  },
  {
   "cell_type": "code",
   "execution_count": null,
   "metadata": {
    "scrolled": true
   },
   "outputs": [],
   "source": [
    "# code,代码\n",
    "# name,名称\n",
    "# esp,每股收益\n",
    "# eps_yoy,每股收益同比(%)\n",
    "# bvps,每股净资产\n",
    "# roe,净资产收益率(%)\n",
    "# epcf,每股现金流量(元)\n",
    "# net_profits,净利润(万元)\n",
    "# profits_yoy,净利润同比(%)\n",
    "# distrib,分配方案\n",
    "# report_date,发布日期\n",
    "df_report = ts.get_report_data(Year,Quarter)"
   ]
  },
  {
   "cell_type": "code",
   "execution_count": null,
   "metadata": {},
   "outputs": [],
   "source": [
    "df_report = df_report[df_report.profits_yoy > 0]\n",
    "len(df_report)"
   ]
  },
  {
   "cell_type": "markdown",
   "metadata": {},
   "source": [
    "#### 每股收益同比小于0的去除"
   ]
  },
  {
   "cell_type": "code",
   "execution_count": null,
   "metadata": {},
   "outputs": [],
   "source": [
    "df_report = df_report[df_report.eps_yoy > 0]\n",
    "len(df_report)"
   ]
  },
  {
   "cell_type": "code",
   "execution_count": null,
   "metadata": {},
   "outputs": [],
   "source": [
    "df_report = df_report.sort_values('roe',ascending=False)\n",
    "df_report"
   ]
  },
  {
   "cell_type": "markdown",
   "metadata": {},
   "source": [
    "#### 每股收益大于1的"
   ]
  },
  {
   "cell_type": "code",
   "execution_count": null,
   "metadata": {},
   "outputs": [],
   "source": [
    "df_report = df_report[df_report.eps > 0.1]\n",
    "df_report"
   ]
  },
  {
   "cell_type": "markdown",
   "metadata": {},
   "source": [
    "## 盈利能力"
   ]
  },
  {
   "cell_type": "code",
   "execution_count": null,
   "metadata": {},
   "outputs": [],
   "source": [
    "# code,代码\n",
    "# name,名称\n",
    "# roe,净资产收益率(%)\n",
    "# net_profit_ratio,净利率(%)\n",
    "# gross_profit_rate,毛利率(%)\n",
    "# net_profits,净利润(万元)\n",
    "# esp,每股收益\n",
    "# business_income,营业收入(百万元)\n",
    "# bips,每股主营业务收入(元)\n",
    "df_profit = ts.get_profit_data(Year,Quarter)"
   ]
  },
  {
   "cell_type": "code",
   "execution_count": null,
   "metadata": {},
   "outputs": [],
   "source": [
    "len(df_profit)"
   ]
  },
  {
   "cell_type": "markdown",
   "metadata": {},
   "source": [
    "#### ROE 大于 0"
   ]
  },
  {
   "cell_type": "code",
   "execution_count": null,
   "metadata": {},
   "outputs": [],
   "source": [
    "df_profit = df_profit[df_profit.roe > 1]\n",
    "len(df_profit)"
   ]
  },
  {
   "cell_type": "markdown",
   "metadata": {},
   "source": [
    "#### 去除ST股"
   ]
  },
  {
   "cell_type": "code",
   "execution_count": null,
   "metadata": {},
   "outputs": [],
   "source": [
    "df_profit = df_profit[df_profit.name.str.find('ST') == -1]\n",
    "len(df_profit)"
   ]
  },
  {
   "cell_type": "markdown",
   "metadata": {},
   "source": [
    "#### 净利润率和毛利润率都大于10"
   ]
  },
  {
   "cell_type": "code",
   "execution_count": null,
   "metadata": {},
   "outputs": [],
   "source": [
    "df_profit = df_profit[(df_profit.net_profit_ratio > 10) & (df_profit.gross_profit_rate > 10)]\n",
    "len(df_profit)"
   ]
  },
  {
   "cell_type": "code",
   "execution_count": null,
   "metadata": {
    "scrolled": true
   },
   "outputs": [],
   "source": [
    "df_profit"
   ]
  },
  {
   "cell_type": "markdown",
   "metadata": {},
   "source": [
    "## 筛选PE为1-15，业绩和营业能力良好的股票"
   ]
  },
  {
   "cell_type": "code",
   "execution_count": null,
   "metadata": {
    "collapsed": true
   },
   "outputs": [],
   "source": [
    "##"
   ]
  }
 ],
 "metadata": {
  "kernelspec": {
   "display_name": "Python 3",
   "language": "python",
   "name": "python3"
  },
  "language_info": {
   "codemirror_mode": {
    "name": "ipython",
    "version": 3
   },
   "file_extension": ".py",
   "mimetype": "text/x-python",
   "name": "python",
   "nbconvert_exporter": "python",
   "pygments_lexer": "ipython3",
   "version": "3.6.1"
  }
 },
 "nbformat": 4,
 "nbformat_minor": 1
}
